{
 "cells": [
  {
   "cell_type": "markdown",
   "id": "d660c426",
   "metadata": {},
   "source": [
    "# Spectral Contrast\n",
    "Spectral contrast is a feature extraction technique commonly used in digital signal processing to represent the spectral content of an audio signal. It is based on the observation that human perception of sound is heavily influenced by the spectral contrast between different frequency bands.\n",
    "\n",
    "Spectral contrast is calculated by dividing the power spectrum of an audio signal into several frequency bands and then computing the difference in energy between adjacent bands. The resulting values represent the contrast between different frequency regions of the spectrum, and can be used as features in various machine learning tasks, such as music genre classification or speech recognition.\n",
    "As I mentioned earlier, spectral contrast is a technique used to represent the spectral content of an audio signal. It is based on the observation that human perception of sound is influenced by the contrast between different frequency bands. For example, a sound that contains strong energy in the low frequency bands but weak energy in the high frequency bands will be perceived as \"bass-heavy\" or \"muddy\".\n",
    "\n",
    "To compute spectral contrast, we first divide the frequency range of an audio signal into several frequency bands. The number of frequency bands and the frequency range of each band can be chosen based on the characteristics of the signal and the specific application. For example, if we are interested in speech recognition, we may want to focus on the frequency range that contains the most information about human speech, which is typically between 0 Hz and 4 kHz.\n",
    "\n",
    "Once we have divided the frequency range into frequency bands, we compute the energy of each band by calculating the sum of the squared magnitudes of the spectral coefficients that fall within each band. We can then compute the contrast between adjacent bands by subtracting the energy of one band from the energy of the neighboring band. The resulting contrast values represent the difference in energy between adjacent frequency regions of the spectrum.\n",
    "\n",
    "The spectral contrast features can then be used as input to machine learning algorithms for various audio processing tasks, such as music genre classification, speech recognition, or speaker identification. In these applications, the goal is to extract meaningful information from the audio signal that can be used to identify the type of sound or speech, or to distinguish between different speakers.\n",
    "\n",
    "In the Python code example I provided earlier, we used the Librosa library to compute the spectral contrast of an audio signal. We first loaded the audio signal using the librosa.load function, and then computed the power spectrum of the signal using the librosa.stft function. We then divided the frequency range into six bands using the np.arange function, and computed the spectral contrast using the librosa.feature.spectral_contrast function.\n",
    "\n",
    "It's worth noting that spectral contrast is just one of many techniques that can be used for feature extraction in audio processing. Other commonly used techniques include Mel frequency cepstral coefficients (MFCCs), linear predictive coding (LPC), and zero crossing rate (ZCR). The choice of feature extraction technique depends on the specific application and the characteristics of the signal being analyzed."
   ]
  },
  {
   "cell_type": "code",
   "execution_count": null,
   "id": "70f6a834",
   "metadata": {},
   "outputs": [],
   "source": [
    "import librosa\n",
    "import matplotlib.pyplot as plt\n",
    "\n",
    "# Load an audio file\n",
    "audio_file = './download1.wav'\n",
    "try:\n",
    "    y, sr = librosa.load(audio_file)\n",
    "except FileNotFoundError:\n",
    "    print(\"File not found. Please provide the correct path to the audio file.\")\n",
    "    exit()\n",
    "\n",
    "# Compute the spectral contrast\n",
    "spectral_contrast = librosa.feature.spectral_contrast(y=y, sr=sr, n_bands=6, fmin=200.0)\n",
    "\n",
    "# Plot the spectral contrast\n",
    "plt.figure(figsize=(6, 4))\n",
    "try:\n",
    "    librosa.display.specshow(spectral_contrast, x_axis='time')\n",
    "except TypeError:\n",
    "    print(\"Error displaying the spectrogram. Please check the dimensions of the input data.\")\n",
    "    exit()\n",
    "\n",
    "plt.title('Spectral Contrast')\n",
    "plt.colorbar(format='%+2.0f dB')\n",
    "plt.tight_layout()\n",
    "plt.show()\n",
    "\n"
   ]
  },
  {
   "cell_type": "code",
   "execution_count": null,
   "id": "6ace1898",
   "metadata": {},
   "outputs": [],
   "source": []
  }
 ],
 "metadata": {
  "kernelspec": {
   "display_name": "Python 3 (ipykernel)",
   "language": "python",
   "name": "python3"
  },
  "language_info": {
   "codemirror_mode": {
    "name": "ipython",
    "version": 3
   },
   "file_extension": ".py",
   "mimetype": "text/x-python",
   "name": "python",
   "nbconvert_exporter": "python",
   "pygments_lexer": "ipython3",
   "version": "3.10.6"
  }
 },
 "nbformat": 4,
 "nbformat_minor": 5
}
