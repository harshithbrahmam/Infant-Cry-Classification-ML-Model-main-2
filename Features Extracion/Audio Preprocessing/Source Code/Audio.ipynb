{
 "cells": [
  {
   "cell_type": "code",
   "execution_count": 5,
   "id": "463e26a9",
   "metadata": {},
   "outputs": [
    {
     "name": "stdout",
     "output_type": "stream",
     "text": [
      "\n",
      "Shape of Signal: (645632,)\n",
      "Signal Datatype: int16\n",
      "Signal duration: 40.35 seconds\n"
     ]
    },
    {
     "name": "stderr",
     "output_type": "stream",
     "text": [
      "C:\\Users\\DASARI RAKESH\\AppData\\Local\\Temp\\ipykernel_9732\\2627825262.py:3: WavFileWarning: Chunk (non-data) not understood, skipping it.\n",
      "  freq_sample,sig_audio=wavfile.read('./DataSets/Welcome.wav')\n"
     ]
    }
   ],
   "source": [
    "import scipy\n",
    "from scipy.io import wavfile\n",
    "freq_sample,sig_audio=wavfile.read('./DataSets/Welcome.wav')\n",
    "print('\\nShape of Signal:', sig_audio.shape)\n",
    "print('Signal Datatype:', sig_audio.dtype)\n",
    "print('Signal duration:', round(sig_audio.shape[0] / float(freq_sample), 2), 'seconds')"
   ]
  },
  {
   "cell_type": "code",
   "execution_count": null,
   "id": "f7c58501",
   "metadata": {},
   "outputs": [],
   "source": []
  }
 ],
 "metadata": {
  "kernelspec": {
   "display_name": "Python 3 (ipykernel)",
   "language": "python",
   "name": "python3"
  },
  "language_info": {
   "codemirror_mode": {
    "name": "ipython",
    "version": 3
   },
   "file_extension": ".py",
   "mimetype": "text/x-python",
   "name": "python",
   "nbconvert_exporter": "python",
   "pygments_lexer": "ipython3",
   "version": "3.10.6"
  }
 },
 "nbformat": 4,
 "nbformat_minor": 5
}
